{
 "cells": [
  {
   "cell_type": "markdown",
   "id": "20746168",
   "metadata": {},
   "source": [
    "# 🎵 이벤트 추천 시스템 데모 – 콘텐츠 기반 필터링\n",
    "이 노트북은 **`merged_events_clean.csv`** 데이터 한 파일로 다음 과정을 모두 시연합니다.\n",
    "\n",
    "1. 데이터 로드 및 기초 정제\n",
    "2. TF‑IDF + 메타데이터 벡터화\n",
    "3. 코사인 거리 기반 이웃 탐색 모델 학습\n",
    "4. `recommend()` 함수로 간단 추천\n",
    "5. (선택) FastAPI 엔드포인트 제공"
   ]
  },
  {
   "cell_type": "markdown",
   "id": "b3b9e8e6",
   "metadata": {},
   "source": [
    "## 0. 라이브러리 임포트 및 설정"
   ]
  },
  {
   "cell_type": "code",
   "execution_count": 1,
   "id": "c2f3efe7",
   "metadata": {},
   "outputs": [
    {
     "name": "stdout",
     "output_type": "stream",
     "text": [
      "라이브러리 불러오기 완료\n"
     ]
    }
   ],
   "source": [
    "import pandas as pd\n",
    "import numpy as np\n",
    "from pathlib import Path\n",
    "\n",
    "from sklearn.feature_extraction.text import TfidfVectorizer\n",
    "from sklearn.preprocessing import MinMaxScaler, OneHotEncoder\n",
    "from sklearn.compose import ColumnTransformer\n",
    "from sklearn.neighbors import NearestNeighbors\n",
    "from scipy.sparse import hstack\n",
    "import joblib\n",
    "\n",
    "print('라이브러리 불러오기 완료')"
   ]
  },
  {
   "cell_type": "markdown",
   "id": "c9a59f9c",
   "metadata": {},
   "source": [
    "## 1. 데이터 불러오기 & 확인"
   ]
  },
  {
   "cell_type": "code",
   "execution_count": 2,
   "id": "ce317430",
   "metadata": {},
   "outputs": [
    {
     "name": "stdout",
     "output_type": "stream",
     "text": [
      "행/열 수: (3988, 8)\n"
     ]
    },
    {
     "data": {
      "text/html": [
       "<div>\n",
       "<style scoped>\n",
       "    .dataframe tbody tr th:only-of-type {\n",
       "        vertical-align: middle;\n",
       "    }\n",
       "\n",
       "    .dataframe tbody tr th {\n",
       "        vertical-align: top;\n",
       "    }\n",
       "\n",
       "    .dataframe thead th {\n",
       "        text-align: right;\n",
       "    }\n",
       "</style>\n",
       "<table border=\"1\" class=\"dataframe\">\n",
       "  <thead>\n",
       "    <tr style=\"text-align: right;\">\n",
       "      <th></th>\n",
       "      <th>link</th>\n",
       "      <th>content</th>\n",
       "      <th>place</th>\n",
       "      <th>date</th>\n",
       "      <th>time</th>\n",
       "      <th>in advance</th>\n",
       "      <th>cover</th>\n",
       "      <th>image</th>\n",
       "    </tr>\n",
       "  </thead>\n",
       "  <tbody>\n",
       "    <tr>\n",
       "      <th>0</th>\n",
       "      <td>https://www.instagram.com/_a_c_s___/p/DJdZN_oJ...</td>\n",
       "      <td>your arms are my cocoon &amp; godfuck Korea Tour 2...</td>\n",
       "      <td>서울 중구 수표로6길 10 지하1층</td>\n",
       "      <td>2025.7.4</td>\n",
       "      <td>18:30</td>\n",
       "      <td>35000</td>\n",
       "      <td>45000</td>\n",
       "      <td>NaN</td>\n",
       "    </tr>\n",
       "    <tr>\n",
       "      <th>1</th>\n",
       "      <td>https://www.instagram.com/_a_c_s___/p/DJvQpH6z...</td>\n",
       "      <td>Dayoung과 Mokhzolla 수강생들의 수료 파티!\\n\\n다들 첫 긱 때의 그...</td>\n",
       "      <td>서울 중구 수표로6길 10 지하1층</td>\n",
       "      <td>NaN</td>\n",
       "      <td>20:00</td>\n",
       "      <td>10000</td>\n",
       "      <td>NaN</td>\n",
       "      <td>NaN</td>\n",
       "    </tr>\n",
       "    <tr>\n",
       "      <th>2</th>\n",
       "      <td>https://www.instagram.com/_a_c_s___/p/DIQeZOIJ...</td>\n",
       "      <td>[2025.4.27] “돌진 / 突進” w/ Ryosuke Kiyasu\\n\\n현재도...</td>\n",
       "      <td>서울 중구 수표로6길 10 지하1층</td>\n",
       "      <td>2025.4.27</td>\n",
       "      <td>18:00</td>\n",
       "      <td>20000</td>\n",
       "      <td>25000</td>\n",
       "      <td>NaN</td>\n",
       "    </tr>\n",
       "    <tr>\n",
       "      <th>3</th>\n",
       "      <td>https://www.instagram.com/_a_c_s___/p/DIQAIfrz...</td>\n",
       "      <td>움직임\\n\\n모든 것은 움직임이죠. 몸도, 시간도, 소리도, 마음도…. 현재 아시아...</td>\n",
       "      <td>서울 중구 수표로6길 10 지하1층</td>\n",
       "      <td>NaN</td>\n",
       "      <td>19:00</td>\n",
       "      <td>20000</td>\n",
       "      <td>NaN</td>\n",
       "      <td>NaN</td>\n",
       "    </tr>\n",
       "    <tr>\n",
       "      <th>4</th>\n",
       "      <td>https://www.instagram.com/_a_c_s___/p/DIJglNIz...</td>\n",
       "      <td>2025/4/11(Fri) 8PM-\\nKOMAoto in South Korea\\nA...</td>\n",
       "      <td>서울 중구 수표로6길 10 지하1층</td>\n",
       "      <td>NaN</td>\n",
       "      <td>20:00</td>\n",
       "      <td>15000</td>\n",
       "      <td>NaN</td>\n",
       "      <td>NaN</td>\n",
       "    </tr>\n",
       "  </tbody>\n",
       "</table>\n",
       "</div>"
      ],
      "text/plain": [
       "                                                link  \\\n",
       "0  https://www.instagram.com/_a_c_s___/p/DJdZN_oJ...   \n",
       "1  https://www.instagram.com/_a_c_s___/p/DJvQpH6z...   \n",
       "2  https://www.instagram.com/_a_c_s___/p/DIQeZOIJ...   \n",
       "3  https://www.instagram.com/_a_c_s___/p/DIQAIfrz...   \n",
       "4  https://www.instagram.com/_a_c_s___/p/DIJglNIz...   \n",
       "\n",
       "                                             content                place  \\\n",
       "0  your arms are my cocoon & godfuck Korea Tour 2...  서울 중구 수표로6길 10 지하1층   \n",
       "1  Dayoung과 Mokhzolla 수강생들의 수료 파티!\\n\\n다들 첫 긱 때의 그...  서울 중구 수표로6길 10 지하1층   \n",
       "2  [2025.4.27] “돌진 / 突進” w/ Ryosuke Kiyasu\\n\\n현재도...  서울 중구 수표로6길 10 지하1층   \n",
       "3  움직임\\n\\n모든 것은 움직임이죠. 몸도, 시간도, 소리도, 마음도…. 현재 아시아...  서울 중구 수표로6길 10 지하1층   \n",
       "4  2025/4/11(Fri) 8PM-\\nKOMAoto in South Korea\\nA...  서울 중구 수표로6길 10 지하1층   \n",
       "\n",
       "        date   time in advance  cover image  \n",
       "0   2025.7.4  18:30      35000  45000   NaN  \n",
       "1        NaN  20:00      10000    NaN   NaN  \n",
       "2  2025.4.27  18:00      20000  25000   NaN  \n",
       "3        NaN  19:00      20000    NaN   NaN  \n",
       "4        NaN  20:00      15000    NaN   NaN  "
      ]
     },
     "execution_count": 2,
     "metadata": {},
     "output_type": "execute_result"
    }
   ],
   "source": [
    "CSV_PATH = Path('merged_events_clean - merged_events_clean.csv')  # 필요 시 경로 수정\n",
    "df = pd.read_csv(CSV_PATH)\n",
    "\n",
    "print('행/열 수:', df.shape)\n",
    "df.head()"
   ]
  },
  {
   "cell_type": "markdown",
   "id": "98d33039",
   "metadata": {},
   "source": [
    "## 2. 기본 전처리\n",
    "* 날짜·시간 파싱\n",
    "* 가격 결측값 보정\n",
    "* 위치(시/구) 추출"
   ]
  },
  {
   "cell_type": "code",
   "execution_count": 6,
   "id": "47371252",
   "metadata": {},
   "outputs": [
    {
     "name": "stderr",
     "output_type": "stream",
     "text": [
      "/var/folders/bn/4pkyl36d075dfzp1bl61d37h0000gn/T/ipykernel_40588/3925682135.py:10: FutureWarning: A value is trying to be set on a copy of a DataFrame or Series through chained assignment using an inplace method.\n",
      "The behavior will change in pandas 3.0. This inplace method will never work because the intermediate object on which we are setting values always behaves as a copy.\n",
      "\n",
      "For example, when doing 'df[col].method(value, inplace=True)', try using 'df.method({col: value}, inplace=True)' or df[col] = df[col].method(value) instead, to perform the operation inplace on the original object.\n",
      "\n",
      "\n",
      "  df['price_adv'].fillna(df['price_door'], inplace=True)\n",
      "/var/folders/bn/4pkyl36d075dfzp1bl61d37h0000gn/T/ipykernel_40588/3925682135.py:11: FutureWarning: A value is trying to be set on a copy of a DataFrame or Series through chained assignment using an inplace method.\n",
      "The behavior will change in pandas 3.0. This inplace method will never work because the intermediate object on which we are setting values always behaves as a copy.\n",
      "\n",
      "For example, when doing 'df[col].method(value, inplace=True)', try using 'df.method({col: value}, inplace=True)' or df[col] = df[col].method(value) instead, to perform the operation inplace on the original object.\n",
      "\n",
      "\n",
      "  df['price_door'].fillna(df['price_adv'], inplace=True)\n"
     ]
    },
    {
     "data": {
      "text/html": [
       "<div>\n",
       "<style scoped>\n",
       "    .dataframe tbody tr th:only-of-type {\n",
       "        vertical-align: middle;\n",
       "    }\n",
       "\n",
       "    .dataframe tbody tr th {\n",
       "        vertical-align: top;\n",
       "    }\n",
       "\n",
       "    .dataframe thead th {\n",
       "        text-align: right;\n",
       "    }\n",
       "</style>\n",
       "<table border=\"1\" class=\"dataframe\">\n",
       "  <thead>\n",
       "    <tr style=\"text-align: right;\">\n",
       "      <th></th>\n",
       "      <th>date</th>\n",
       "      <th>time</th>\n",
       "      <th>price_adv</th>\n",
       "      <th>price_door</th>\n",
       "      <th>loc_sigu</th>\n",
       "    </tr>\n",
       "  </thead>\n",
       "  <tbody>\n",
       "    <tr>\n",
       "      <th>0</th>\n",
       "      <td>2025-07-04</td>\n",
       "      <td>NaT</td>\n",
       "      <td>35000.0</td>\n",
       "      <td>45000.0</td>\n",
       "      <td>서울 중구</td>\n",
       "    </tr>\n",
       "    <tr>\n",
       "      <th>1</th>\n",
       "      <td>NaT</td>\n",
       "      <td>NaT</td>\n",
       "      <td>10000.0</td>\n",
       "      <td>10000.0</td>\n",
       "      <td>서울 중구</td>\n",
       "    </tr>\n",
       "    <tr>\n",
       "      <th>2</th>\n",
       "      <td>2025-04-27</td>\n",
       "      <td>NaT</td>\n",
       "      <td>20000.0</td>\n",
       "      <td>25000.0</td>\n",
       "      <td>서울 중구</td>\n",
       "    </tr>\n",
       "    <tr>\n",
       "      <th>3</th>\n",
       "      <td>NaT</td>\n",
       "      <td>NaT</td>\n",
       "      <td>20000.0</td>\n",
       "      <td>20000.0</td>\n",
       "      <td>서울 중구</td>\n",
       "    </tr>\n",
       "    <tr>\n",
       "      <th>4</th>\n",
       "      <td>NaT</td>\n",
       "      <td>NaT</td>\n",
       "      <td>15000.0</td>\n",
       "      <td>15000.0</td>\n",
       "      <td>서울 중구</td>\n",
       "    </tr>\n",
       "  </tbody>\n",
       "</table>\n",
       "</div>"
      ],
      "text/plain": [
       "        date time  price_adv  price_door loc_sigu\n",
       "0 2025-07-04  NaT    35000.0     45000.0    서울 중구\n",
       "1        NaT  NaT    10000.0     10000.0    서울 중구\n",
       "2 2025-04-27  NaT    20000.0     25000.0    서울 중구\n",
       "3        NaT  NaT    20000.0     20000.0    서울 중구\n",
       "4        NaT  NaT    15000.0     15000.0    서울 중구"
      ]
     },
     "execution_count": 6,
     "metadata": {},
     "output_type": "execute_result"
    }
   ],
   "source": [
    "# 날짜/시간\n",
    "df['date'] = pd.to_datetime(df['date'], errors='coerce')\n",
    "df['time'] = pd.to_datetime(df['time'], format='%H:%M', errors='coerce').dt.time\n",
    "\n",
    "# 가격 컬럼 숫자형 변환\n",
    "df['price_adv']  = pd.to_numeric(df['in advance'], errors='coerce')\n",
    "df['price_door'] = pd.to_numeric(df['cover'], errors='coerce')\n",
    "\n",
    "mid_price = df[['price_adv', 'price_door']].stack().median()\n",
    "df['price_adv'].fillna(df['price_door'], inplace=True)\n",
    "df['price_door'].fillna(df['price_adv'], inplace=True)\n",
    "df[['price_adv','price_door']] = df[['price_adv','price_door']].fillna(mid_price)\n",
    "\n",
    "# 위치(시/구) 추출\n",
    "loc = df['place'].fillna('').str.extract(r'^(?P<city>[^ ]+)\\s*(?P<gu>[^ ]+)?')\n",
    "df['loc_sigu'] = loc['city'].fillna('') + ' ' + loc['gu'].fillna('')\n",
    "df.loc[df['loc_sigu'].str.strip()=='','loc_sigu'] = 'unknown'\n",
    "\n",
    "df[['date','time','price_adv','price_door','loc_sigu']].head()"
   ]
  },
  {
   "cell_type": "markdown",
   "id": "2a00c8e9",
   "metadata": {},
   "source": [
    "## 3. 피처 엔지니어링\n",
    "### 3‑1. TF‑IDF(텍스트) 벡터화"
   ]
  },
  {
   "cell_type": "code",
   "execution_count": 7,
   "id": "16643de7",
   "metadata": {},
   "outputs": [
    {
     "data": {
      "text/plain": [
       "<3988x10000 sparse matrix of type '<class 'numpy.float64'>'\n",
       "\twith 243130 stored elements in Compressed Sparse Row format>"
      ]
     },
     "execution_count": 7,
     "metadata": {},
     "output_type": "execute_result"
    }
   ],
   "source": [
    "text_corpus = (\n",
    "    df['content'].fillna('') + ' ' +\n",
    "    df['place'].fillna('')   + ' ' +\n",
    "    df['loc_sigu'].fillna('')\n",
    ")\n",
    "\n",
    "tfidf = TfidfVectorizer(max_features=10_000,\n",
    "                        ngram_range=(1,2),\n",
    "                        min_df=3,\n",
    "                        stop_words='english')\n",
    "X_text = tfidf.fit_transform(text_corpus)\n",
    "X_text"
   ]
  },
  {
   "cell_type": "markdown",
   "id": "568d333a",
   "metadata": {},
   "source": [
    "### 3‑2. 숫자형 & 범주형 메타데이터 인코딩"
   ]
  },
  {
   "cell_type": "code",
   "execution_count": 8,
   "id": "ae3e71ea",
   "metadata": {},
   "outputs": [
    {
     "data": {
      "text/plain": [
       "<3988x18 sparse matrix of type '<class 'numpy.float64'>'\n",
       "\twith 11331 stored elements in Compressed Sparse Row format>"
      ]
     },
     "execution_count": 8,
     "metadata": {},
     "output_type": "execute_result"
    }
   ],
   "source": [
    "num_cols = ['price_adv', 'price_door']\n",
    "cat_cols = ['loc_sigu']\n",
    "\n",
    "pre = ColumnTransformer([\n",
    "    ('num', MinMaxScaler(), num_cols),\n",
    "    ('cat', OneHotEncoder(handle_unknown='ignore'), cat_cols)\n",
    "])\n",
    "\n",
    "X_meta = pre.fit_transform(df)\n",
    "X_meta"
   ]
  },
  {
   "cell_type": "markdown",
   "id": "be4e6bcf",
   "metadata": {},
   "source": [
    "### 3‑3. 희소 행렬 결합"
   ]
  },
  {
   "cell_type": "code",
   "execution_count": 9,
   "id": "3cf30628",
   "metadata": {},
   "outputs": [
    {
     "data": {
      "text/plain": [
       "<3988x10018 sparse matrix of type '<class 'numpy.float64'>'\n",
       "\twith 254461 stored elements in Compressed Sparse Row format>"
      ]
     },
     "execution_count": 9,
     "metadata": {},
     "output_type": "execute_result"
    }
   ],
   "source": [
    "X_all = hstack([X_text, X_meta]).tocsr()\n",
    "X_all"
   ]
  },
  {
   "cell_type": "markdown",
   "id": "ff2774f1",
   "metadata": {},
   "source": [
    "## 4. 코사인 Nearest Neighbors 모델 학습 및 저장"
   ]
  },
  {
   "cell_type": "code",
   "execution_count": 10,
   "id": "05b87e71",
   "metadata": {},
   "outputs": [
    {
     "name": "stdout",
     "output_type": "stream",
     "text": [
      "모델 저장 완료: model/recommender_ko.joblib\n"
     ]
    }
   ],
   "source": [
    "knn = NearestNeighbors(metric='cosine', n_neighbors=20, n_jobs=-1)\n",
    "knn.fit(X_all)\n",
    "\n",
    "MODEL_DIR = Path('model')\n",
    "MODEL_DIR.mkdir(exist_ok=True)\n",
    "joblib.dump({'tfidf': tfidf, 'pre': pre, 'knn': knn, 'df': df}, MODEL_DIR/'recommender_ko.joblib')\n",
    "print('모델 저장 완료:', MODEL_DIR/'recommender_ko.joblib')"
   ]
  },
  {
   "cell_type": "markdown",
   "id": "0503b3d5",
   "metadata": {},
   "source": [
    "## 5. 추천 함수 정의"
   ]
  },
  {
   "cell_type": "code",
   "execution_count": 11,
   "id": "83594c8d",
   "metadata": {},
   "outputs": [],
   "source": [
    "job = joblib.load(MODEL_DIR/'recommender_ko.joblib')\n",
    "\n",
    "def encode_query(q: dict):\n",
    "    \"\"\"사용자 입력(dict) → 모델 입력 벡터\"\"\"\n",
    "    txt_vec = job['tfidf'].transform([q.get('keywords','')])\n",
    "    meta_df = pd.DataFrame([{\n",
    "        'price_adv':  q.get('price_max', mid_price),\n",
    "        'price_door': q.get('price_max', mid_price),\n",
    "        'loc_sigu':   q.get('location', 'unknown')\n",
    "    }])\n",
    "    meta_vec = job['pre'].transform(meta_df)\n",
    "    return hstack([txt_vec, meta_vec])\n",
    "\n",
    "def recommend(query: dict, top_k=5):\n",
    "    q_vec = encode_query(query)\n",
    "    dist, idx = job['knn'].kneighbors(q_vec, n_neighbors=top_k)\n",
    "    recs = job['df'].iloc[idx[0]].copy()\n",
    "    recs['score'] = 1 - dist[0]  # 코사인 유사도\n",
    "    return recs[['link','content','place','date','time','price_adv','price_door','score']]\n"
   ]
  },
  {
   "cell_type": "markdown",
   "id": "09f93a6d",
   "metadata": {},
   "source": [
    "## 6. 동작 예시"
   ]
  },
  {
   "cell_type": "code",
   "execution_count": 12,
   "id": "4862607b",
   "metadata": {},
   "outputs": [
    {
     "data": {
      "text/html": [
       "<div>\n",
       "<style scoped>\n",
       "    .dataframe tbody tr th:only-of-type {\n",
       "        vertical-align: middle;\n",
       "    }\n",
       "\n",
       "    .dataframe tbody tr th {\n",
       "        vertical-align: top;\n",
       "    }\n",
       "\n",
       "    .dataframe thead th {\n",
       "        text-align: right;\n",
       "    }\n",
       "</style>\n",
       "<table border=\"1\" class=\"dataframe\">\n",
       "  <thead>\n",
       "    <tr style=\"text-align: right;\">\n",
       "      <th></th>\n",
       "      <th>link</th>\n",
       "      <th>content</th>\n",
       "      <th>place</th>\n",
       "      <th>date</th>\n",
       "      <th>time</th>\n",
       "      <th>price_adv</th>\n",
       "      <th>price_door</th>\n",
       "      <th>score</th>\n",
       "    </tr>\n",
       "  </thead>\n",
       "  <tbody>\n",
       "    <tr>\n",
       "      <th>53</th>\n",
       "      <td>https://www.instagram.com/space_hangang/p/CvFF...</td>\n",
       "      <td>&lt;남경운과 서울 사람들 Vol.1&gt;\\n\\nTicket Link in @space_h...</td>\n",
       "      <td>서울 마포구 와우산로 128 지하1층)</td>\n",
       "      <td>2023-08-06</td>\n",
       "      <td>NaT</td>\n",
       "      <td>33000.0</td>\n",
       "      <td>33000.0</td>\n",
       "      <td>0.525651</td>\n",
       "    </tr>\n",
       "    <tr>\n",
       "      <th>706</th>\n",
       "      <td>https://www.instagram.com/hermit_kr/p/C_ryP36S...</td>\n",
       "      <td>안녕하세요 여러분!\\n\\n적바림JeokVaRim 앨범 “U R NOT EXTRA”\\...</td>\n",
       "      <td>서울 마포구 양화로6길 27 지하 1층</td>\n",
       "      <td>2025-09-14</td>\n",
       "      <td>NaT</td>\n",
       "      <td>25000.0</td>\n",
       "      <td>10000.0</td>\n",
       "      <td>0.518624</td>\n",
       "    </tr>\n",
       "    <tr>\n",
       "      <th>703</th>\n",
       "      <td>https://www.instagram.com/hermit_kr/p/DB1aTTHS...</td>\n",
       "      <td>예매 문의 @bonui777\\n\\n[리프 데뷔 1주년 기념 공연] @lifficia...</td>\n",
       "      <td>서울 마포구 양화로6길 27 지하 1층</td>\n",
       "      <td>2024-11-15</td>\n",
       "      <td>NaT</td>\n",
       "      <td>25000.0</td>\n",
       "      <td>10000.0</td>\n",
       "      <td>0.513847</td>\n",
       "    </tr>\n",
       "    <tr>\n",
       "      <th>707</th>\n",
       "      <td>https://www.instagram.com/hermit_kr/p/C_rsxQkS...</td>\n",
       "      <td>[2024 Cécile(세실) 생일잔치]\\n\\n안녕하세요, 더픽쳐스의 드러머 조민영...</td>\n",
       "      <td>서울 마포구 양화로6길 27 지하 1층</td>\n",
       "      <td>2024-09-12</td>\n",
       "      <td>NaT</td>\n",
       "      <td>25000.0</td>\n",
       "      <td>10000.0</td>\n",
       "      <td>0.513847</td>\n",
       "    </tr>\n",
       "    <tr>\n",
       "      <th>773</th>\n",
       "      <td>https://www.instagram.com/hermit_kr/p/Cu0l6Sjv...</td>\n",
       "      <td>.\\n📌 7/21 &lt;금요일 밤 12시 공연&gt; 라인업\\n\\n현재 저희 레몬 라이브 하...</td>\n",
       "      <td>서울 마포구 양화로6길 27 지하 1층</td>\n",
       "      <td>2023-07-21</td>\n",
       "      <td>NaT</td>\n",
       "      <td>20000.0</td>\n",
       "      <td>10000.0</td>\n",
       "      <td>0.510019</td>\n",
       "    </tr>\n",
       "  </tbody>\n",
       "</table>\n",
       "</div>"
      ],
      "text/plain": [
       "                                                  link  \\\n",
       "53   https://www.instagram.com/space_hangang/p/CvFF...   \n",
       "706  https://www.instagram.com/hermit_kr/p/C_ryP36S...   \n",
       "703  https://www.instagram.com/hermit_kr/p/DB1aTTHS...   \n",
       "707  https://www.instagram.com/hermit_kr/p/C_rsxQkS...   \n",
       "773  https://www.instagram.com/hermit_kr/p/Cu0l6Sjv...   \n",
       "\n",
       "                                               content                  place  \\\n",
       "53   <남경운과 서울 사람들 Vol.1>\\n\\nTicket Link in @space_h...  서울 마포구 와우산로 128 지하1층)   \n",
       "706  안녕하세요 여러분!\\n\\n적바림JeokVaRim 앨범 “U R NOT EXTRA”\\...  서울 마포구 양화로6길 27 지하 1층   \n",
       "703  예매 문의 @bonui777\\n\\n[리프 데뷔 1주년 기념 공연] @lifficia...  서울 마포구 양화로6길 27 지하 1층   \n",
       "707  [2024 Cécile(세실) 생일잔치]\\n\\n안녕하세요, 더픽쳐스의 드러머 조민영...  서울 마포구 양화로6길 27 지하 1층   \n",
       "773  .\\n📌 7/21 <금요일 밤 12시 공연> 라인업\\n\\n현재 저희 레몬 라이브 하...  서울 마포구 양화로6길 27 지하 1층   \n",
       "\n",
       "          date time  price_adv  price_door     score  \n",
       "53  2023-08-06  NaT    33000.0     33000.0  0.525651  \n",
       "706 2025-09-14  NaT    25000.0     10000.0  0.518624  \n",
       "703 2024-11-15  NaT    25000.0     10000.0  0.513847  \n",
       "707 2024-09-12  NaT    25000.0     10000.0  0.513847  \n",
       "773 2023-07-21  NaT    20000.0     10000.0  0.510019  "
      ]
     },
     "execution_count": 12,
     "metadata": {},
     "output_type": "execute_result"
    }
   ],
   "source": [
    "sample = {\n",
    "    'keywords': 'psychedelic rock live',\n",
    "    'price_max': 35000,\n",
    "    'location': '서울 마포구'\n",
    "}\n",
    "recommend(sample)"
   ]
  },
  {
   "cell_type": "markdown",
   "id": "50daac55",
   "metadata": {},
   "source": [
    "## 7. (선택) FastAPI 엔드포인트 예시"
   ]
  },
  {
   "cell_type": "code",
   "execution_count": 13,
   "id": "c4fef6d0",
   "metadata": {},
   "outputs": [
    {
     "ename": "ModuleNotFoundError",
     "evalue": "No module named 'fastapi'",
     "output_type": "error",
     "traceback": [
      "\u001b[0;31m---------------------------------------------------------------------------\u001b[0m",
      "\u001b[0;31mModuleNotFoundError\u001b[0m                       Traceback (most recent call last)",
      "Cell \u001b[0;32mIn[13], line 5\u001b[0m\n\u001b[1;32m      1\u001b[0m \u001b[38;5;124;03m\"\"\"이 셀을 api.py 파일로 저장한 뒤 아래 명령어로 실행하세요.\u001b[39;00m\n\u001b[1;32m      2\u001b[0m \n\u001b[1;32m      3\u001b[0m \u001b[38;5;124;03m    uvicorn api:app --host 0.0.0.0 --port 8000\u001b[39;00m\n\u001b[1;32m      4\u001b[0m \u001b[38;5;124;03m\"\"\"\u001b[39;00m\n\u001b[0;32m----> 5\u001b[0m \u001b[38;5;28;01mfrom\u001b[39;00m \u001b[38;5;21;01mfastapi\u001b[39;00m \u001b[38;5;28;01mimport\u001b[39;00m FastAPI\n\u001b[1;32m      6\u001b[0m \u001b[38;5;28;01mfrom\u001b[39;00m \u001b[38;5;21;01mpydantic\u001b[39;00m \u001b[38;5;28;01mimport\u001b[39;00m BaseModel\n\u001b[1;32m      7\u001b[0m \u001b[38;5;28;01mimport\u001b[39;00m \u001b[38;5;21;01muvicorn\u001b[39;00m\n",
      "\u001b[0;31mModuleNotFoundError\u001b[0m: No module named 'fastapi'"
     ]
    }
   ],
   "source": [
    "\"\"\"이 셀을 api.py 파일로 저장한 뒤 아래 명령어로 실행하세요.\n",
    "\n",
    "    uvicorn api:app --host 0.0.0.0 --port 8000\n",
    "\"\"\"\n",
    "from fastapi import FastAPI\n",
    "from pydantic import BaseModel\n",
    "import uvicorn\n",
    "\n",
    "app = FastAPI()\n",
    "model = joblib.load('model/recommender_ko.joblib')\n",
    "\n",
    "class Query(BaseModel):\n",
    "    keywords: str = ''\n",
    "    price_max: float | None = None\n",
    "    location: str = ''\n",
    "\n",
    "@app.post('/recommend')\n",
    "def rec_api(q: Query, top_k:int=5):\n",
    "    res = recommend(q.dict(), top_k=top_k)\n",
    "    return res.to_dict(orient='records')\n",
    "# if __name__ == '__main__':\n",
    "#     uvicorn.run(app, host='0.0.0.0', port=8000)"
   ]
  }
 ],
 "metadata": {
  "kernelspec": {
   "display_name": "Python 3",
   "language": "python",
   "name": "python3"
  },
  "language_info": {
   "codemirror_mode": {
    "name": "ipython",
    "version": 3
   },
   "file_extension": ".py",
   "mimetype": "text/x-python",
   "name": "python",
   "nbconvert_exporter": "python",
   "pygments_lexer": "ipython3",
   "version": "3.12.7"
  }
 },
 "nbformat": 4,
 "nbformat_minor": 5
}
